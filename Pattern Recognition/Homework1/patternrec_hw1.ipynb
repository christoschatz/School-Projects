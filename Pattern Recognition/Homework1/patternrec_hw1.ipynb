{
  "nbformat": 4,
  "nbformat_minor": 0,
  "metadata": {
    "colab": {
      "provenance": []
    },
    "kernelspec": {
      "name": "python3",
      "display_name": "Python 3"
    },
    "language_info": {
      "name": "python"
    }
  },
  "cells": [
    {
      "cell_type": "markdown",
      "source": [
        "##**Άσκηση 2**"
      ],
      "metadata": {
        "id": "lu4xBL4M65RU"
      }
    },
    {
      "cell_type": "code",
      "source": [
        "import numpy as np\n",
        "\n",
        "#define a priori probabilities as given\n",
        "apriori = [1/4,3/4]\n",
        "\n",
        "#roots found in the first question\n",
        "roots = [1.075,2.258]\n",
        "\n",
        "#define number of samples\n",
        "num_of_samples = 10000\n",
        "\n",
        "#split and create based on apriori probabilities samples for w1 and w2\n",
        "w1_samples_num = apriori[0] * num_of_samples #w1 samples\n",
        "w2_samples_num = apriori[1] * num_of_samples #w2 samples\n",
        "\n",
        "#create random samples using normal distribution\n",
        "w1 = np.random.normal(2,np.sqrt(0.5),int(w1_samples_num))\n",
        "w2 = np.random.normal(1.8,np.sqrt(0.2),int(w2_samples_num))\n",
        "\n",
        "#counters initialization to count correct and wrong classifications\n",
        "recognised_wrong_w1 = 0\n",
        "recognised_wrong_w2 = 0\n",
        "recognised_correct_w1 = 0\n",
        "recognised_correct_w2 = 0\n",
        "\n",
        "#check for w1 how many samples recognised correctly\n",
        "for i in w1:\n",
        "  if i > roots[0] and i < roots[1]:\n",
        "    recognised_wrong_w1 = recognised_wrong_w1 + 1\n",
        "  else:\n",
        "    recognised_correct_w1 = recognised_correct_w1 + 1\n",
        "\n",
        "#check for w2 how many samples recognised correctly\n",
        "for j in w2:\n",
        "  if j > roots[0] and j < roots[1]:\n",
        "    recognised_correct_w2 = recognised_correct_w2  + 1\n",
        "  else:\n",
        "    recognised_wrong_w2 = recognised_wrong_w2 + 1\n",
        "\n",
        "#check in given samples the probabilities\n",
        "correct_w1 = recognised_correct_w1 / w1_samples_num\n",
        "correct_w2 = recognised_correct_w2 / w2_samples_num\n",
        "wrong_w1 = recognised_wrong_w1 / w1_samples_num\n",
        "wrong_w2 = recognised_wrong_w2 / w2_samples_num\n",
        "\n",
        "#define cost as described in the report\n",
        "cost = apriori[0] * ((0 * correct_w1) + (3 * wrong_w1)) + \\\n",
        "apriori[1] * ((1 * wrong_w2) + (0* correct_w2))\n",
        "\n",
        "print(f\"For w1 successfully classified {round(correct_w1*100,2)} %\")\n",
        "print(f\"For w2 successfully classified {round(correct_w2*100,2)} %\")\n",
        "print(f\"The cost is {cost}\")"
      ],
      "metadata": {
        "id": "POfIzjse67sS",
        "colab": {
          "base_uri": "https://localhost:8080/"
        },
        "outputId": "230e5aaa-144a-4d86-cf81-d57253ec69ae"
      },
      "execution_count": 33,
      "outputs": [
        {
          "output_type": "stream",
          "name": "stdout",
          "text": [
            "For w1 successfully classified 45.52 %\n",
            "For w2 successfully classified 79.71 %\n",
            "The cost is 0.5608\n"
          ]
        }
      ]
    },
    {
      "cell_type": "markdown",
      "source": [
        "##**Άσκηση 3 a)**"
      ],
      "metadata": {
        "id": "DJ7mMcaGJXW5"
      }
    },
    {
      "cell_type": "code",
      "source": [
        "import math\n",
        "import numpy as np\n",
        "\n",
        "def discriminant_func(x,m,dim,covariance_matrix,apriori):\n",
        "  var1 = x-m\n",
        "  if dim != 1:\n",
        "    det_cov_mat = np.linalg.det(covariance_matrix)\n",
        "    return -0.5*np.matmul(np.matmul(np.transpose(var1),np.linalg.inv(covariance_matrix)),var1) \\\n",
        "    - (dim/2)*math.log(2*math.pi) - 0.5*math.log(det_cov_mat) + math.log(apriori)\n",
        "  else:\n",
        "    det_cov_mat = abs(covariance_matrix)\n",
        "    return -0.5*(var1)*(covariance_matrix)**(-1)*var1 \\\n",
        "    - (dim/2)*math.log(2*math.pi) - 0.5*math.log(det_cov_mat) + math.log(apriori)\n",
        "\n",
        "def euclidean_distance(x,y,dim):\n",
        "  if dim != 1:\n",
        "    return np.sqrt(np.matmul(np.transpose(x-y),(x-y)))\n",
        "  else:\n",
        "    return abs(x-y)\n",
        "\n",
        "def mahalanobis_distance(x,m,covariance_matrix,dim):\n",
        "  var1 = x-m\n",
        "  if dim != 1:\n",
        "    return np.sqrt(np.matmul(np.matmul(np.transpose(var1),np.linalg.inv(covariance_matrix)),var1))\n",
        "  else:\n",
        "    return np.sqrt(var1*(covariance_matrix**(-1))*var1)"
      ],
      "metadata": {
        "id": "Gt7xeVNC9geS"
      },
      "execution_count": 34,
      "outputs": []
    },
    {
      "cell_type": "markdown",
      "source": [
        "##**Άσκηση 3 b)**"
      ],
      "metadata": {
        "id": "Tu-K77NGqLdQ"
      }
    },
    {
      "cell_type": "code",
      "source": [
        "import numpy as np\n",
        "\n",
        "# Specify the file path\n",
        "file_path = '/content/data.csv'\n",
        "\n",
        "#import data in an array skiping the first line\n",
        "total_data = np.genfromtxt(file_path, delimiter = ',', skip_header=1)\n",
        "\n",
        "#split data for each class\n",
        "data_w1 = total_data[0:39,0:3]\n",
        "data_w2 = total_data[39:79,0:3]\n",
        "data_w3 = total_data[79:,0:3]\n",
        "class_data = total_data[:,3]\n",
        "\n",
        "#for x1\n",
        "x1_mean_w1 = np.mean(data_w1[:,0])\n",
        "x1_cov_w1 = np.cov(data_w1[:,0],rowvar = False)\n",
        "\n",
        "x1_mean_w2 = np.mean(data_w2[:,0])\n",
        "x1_cov_w2 = np.cov(data_w2[:,0],rowvar = False)\n",
        "\n",
        "x1_mean_w3 = np.mean(data_w3[:,0])\n",
        "x1_cov_w3 = np.cov(data_w3[:,0],rowvar = False)\n",
        "\n",
        "#for x1,x2\n",
        "x1x2_mean_w1 = np.mean(data_w1[:,0:2],axis = 0)\n",
        "x1x2_cov_w1 = np.cov(data_w1[:,0:2],rowvar = False)\n",
        "\n",
        "x1x2_mean_w2 = np.mean(data_w2[:,0:2],axis = 0)\n",
        "x1x2_cov_w2 = np.cov(data_w2[:,0:2],rowvar = False)\n",
        "\n",
        "x1x2_mean_w3 = np.mean(data_w3[:,0:2],axis = 0)\n",
        "x1x2_cov_w3 = np.cov(data_w3[:,0:2],rowvar = False)\n",
        "\n",
        "#for x1,x2,x3\n",
        "x1x2x3_mean_w1 = np.mean(data_w1[:,0:3],axis = 0)\n",
        "x1x2x3_cov_w1 = np.cov(data_w1[:,0:3],rowvar = False)\n",
        "\n",
        "x1x2x3_mean_w2 = np.mean(data_w2[:,0:3],axis = 0)\n",
        "x1x2x3_cov_w2 = np.cov(data_w2[:,0:3],rowvar = False)\n",
        "\n",
        "x1x2x3_mean_w3 = np.mean(data_w3[:,0:3],axis = 0)\n",
        "x1x2x3_cov_w3 = np.cov(data_w3[:,0:3],rowvar = False)"
      ],
      "metadata": {
        "id": "Bhn96zFOgaGC"
      },
      "execution_count": 35,
      "outputs": []
    },
    {
      "cell_type": "markdown",
      "source": [
        "##**Άσκηση 3 c)**"
      ],
      "metadata": {
        "id": "F-GPnHaEepE8"
      }
    },
    {
      "cell_type": "code",
      "source": [
        "#store row size for each class\n",
        "data_w1_rows = data_w1.shape[0]\n",
        "data_w2_rows = data_w2.shape[0]\n",
        "data_w3_rows = data_w3.shape[0]\n",
        "\n",
        "#for class1\n",
        "g1 = np.zeros((data_w1_rows,1))\n",
        "g2 = np.zeros((data_w1_rows,1))\n",
        "wrong_pred = 0\n",
        "for i in range(0,data_w1_rows):\n",
        "  g1[i,0] = discriminant_func(data_w1[i,0],x1_mean_w1,1,x1_cov_w1,0.5)\n",
        "  g2[i,0] = discriminant_func(data_w1[i,0],x1_mean_w2,1,x1_cov_w2,0.5)\n",
        "  if(g1[i,0] < g2[i,0]):\n",
        "    wrong_pred = wrong_pred + 1\n",
        "\n",
        "#for class2\n",
        "g3 = np.zeros((data_w2_rows,1))\n",
        "g4 = np.zeros((data_w2_rows,1))\n",
        "for i in range(0,data_w2_rows):\n",
        "  g3[i,0] = discriminant_func(data_w2[i,0],x1_mean_w1,1,x1_cov_w1,0.5)\n",
        "  g4[i,0] = discriminant_func(data_w2[i,0],x1_mean_w2,1,x1_cov_w2,0.5)\n",
        "  if(g3[i,0] > g4[i,0]):\n",
        "    wrong_pred = wrong_pred + 1\n",
        "\n",
        "tot_class_error = wrong_pred/(data_w1_rows + data_w2_rows)\n",
        "print(f\"Classification Error using only x1 is {tot_class_error}\")"
      ],
      "metadata": {
        "id": "3bi5_gAJer6r",
        "colab": {
          "base_uri": "https://localhost:8080/"
        },
        "outputId": "55c11578-19b4-4222-b9b4-27474509694a"
      },
      "execution_count": 36,
      "outputs": [
        {
          "output_type": "stream",
          "name": "stdout",
          "text": [
            "Classification Error using only x1 is 0.4050632911392405\n"
          ]
        }
      ]
    },
    {
      "cell_type": "markdown",
      "source": [
        "##**Άσκηση 3 d)**"
      ],
      "metadata": {
        "id": "ZZB4VsLQ1l7B"
      }
    },
    {
      "cell_type": "code",
      "source": [
        "#for x1,x2\n",
        "\n",
        "#for class1\n",
        "g1 = np.zeros((data_w1_rows,1))\n",
        "g2 = np.zeros((data_w1_rows,1))\n",
        "wrong_pred = 0\n",
        "for i in range(0,data_w1_rows):\n",
        "  g1[i,0] = discriminant_func(data_w1[i,0:2],x1x2_mean_w1,2,x1x2_cov_w1,0.5)\n",
        "  g2[i,0] = discriminant_func(data_w1[i,0:2],x1x2_mean_w2,2,x1x2_cov_w2,0.5)\n",
        "  if(g1[i,0] < g2[i,0]):\n",
        "    wrong_pred = wrong_pred + 1\n",
        "\n",
        "#for class2\n",
        "g3 = np.zeros((data_w2_rows,1))\n",
        "g4 = np.zeros((data_w2_rows,1))\n",
        "for i in range(0,data_w2_rows):\n",
        "  g3[i,0] = discriminant_func(data_w2[i,0:2],x1x2_mean_w1,2,x1x2_cov_w1,0.5)\n",
        "  g4[i,0] = discriminant_func(data_w2[i,0:2],x1x2_mean_w2,2,x1x2_cov_w2,0.5)\n",
        "  if(g3[i,0] > g4[i,0]):\n",
        "    wrong_pred = wrong_pred + 1\n",
        "\n",
        "tot_class_error = wrong_pred/(data_w1_rows + data_w2_rows)\n",
        "print(f\"Classification Error using x1,x2 is {tot_class_error}\")\n",
        "\n",
        "#for x1,x2,x3\n",
        "\n",
        "#for class1\n",
        "g1 = np.zeros((data_w1_rows,1))\n",
        "g2 = np.zeros((data_w1_rows,1))\n",
        "wrong_pred = 0\n",
        "for i in range(0,data_w1_rows):\n",
        "  g1[i,0] = discriminant_func(data_w1[i,0:3],x1x2x3_mean_w1,3,x1x2x3_cov_w1,0.5)\n",
        "  g2[i,0] = discriminant_func(data_w1[i,0:3],x1x2x3_mean_w2,3,x1x2x3_cov_w2,0.5)\n",
        "  if(g1[i,0] < g2[i,0]):\n",
        "    wrong_pred = wrong_pred + 1\n",
        "\n",
        "#for class2\n",
        "g3 = np.zeros((data_w2_rows,1))\n",
        "g4 = np.zeros((data_w2_rows,1))\n",
        "for i in range(0,data_w2_rows):\n",
        "  g3[i,0] = discriminant_func(data_w2[i,0:3],x1x2x3_mean_w1,3,x1x2x3_cov_w1,0.5)\n",
        "  g4[i,0] = discriminant_func(data_w2[i,0:3],x1x2x3_mean_w2,3,x1x2x3_cov_w2,0.5)\n",
        "  if(g3[i,0] > g4[i,0]):\n",
        "    wrong_pred = wrong_pred + 1\n",
        "\n",
        "tot_class_error = wrong_pred/(data_w1_rows + data_w2_rows)\n",
        "print(f\"Classification Error using x1,x2,x3 is {tot_class_error}\")"
      ],
      "metadata": {
        "colab": {
          "base_uri": "https://localhost:8080/"
        },
        "id": "NvPc0Vn91nj8",
        "outputId": "23072426-e5a5-45b3-8b49-998d2115420f"
      },
      "execution_count": 37,
      "outputs": [
        {
          "output_type": "stream",
          "name": "stdout",
          "text": [
            "Classification Error using x1,x2 is 0.379746835443038\n",
            "Classification Error using x1,x2,x3 is 0.21518987341772153\n"
          ]
        }
      ]
    },
    {
      "cell_type": "markdown",
      "source": [
        "##**Άσκηση 3 e)**"
      ],
      "metadata": {
        "id": "cWhqxNIaC6Hs"
      }
    },
    {
      "cell_type": "code",
      "source": [
        "#for x1,x2,x3\n",
        "\n",
        "#for class1\n",
        "g1 = np.zeros((data_w1_rows,1))\n",
        "g2 = np.zeros((data_w1_rows,1))\n",
        "g3 = np.zeros((data_w1_rows,1))\n",
        "wrong_pred = 0\n",
        "for i in range(0,data_w1_rows):\n",
        "  g1[i,0] = discriminant_func(data_w1[i,0:3],x1x2x3_mean_w1,3,x1x2x3_cov_w1,0.8)\n",
        "  g2[i,0] = discriminant_func(data_w1[i,0:3],x1x2x3_mean_w2,3,x1x2x3_cov_w2,0.1)\n",
        "  g3[i,0] = discriminant_func(data_w1[i,0:3],x1x2x3_mean_w3,3,x1x2x3_cov_w3,0.1)\n",
        "  if(g1[i,0] < g2[i,0]) or (g1[i,0] < g3[i,0]):\n",
        "    wrong_pred = wrong_pred + 1\n",
        "\n",
        "#for class2\n",
        "g4 = np.zeros((data_w2_rows,1))\n",
        "g5 = np.zeros((data_w2_rows,1))\n",
        "g6 = np.zeros((data_w2_rows,1))\n",
        "for i in range(0,data_w2_rows):\n",
        "  g4[i,0] = discriminant_func(data_w2[i,0:3],x1x2x3_mean_w1,3,x1x2x3_cov_w1,0.8)\n",
        "  g5[i,0] = discriminant_func(data_w2[i,0:3],x1x2x3_mean_w2,3,x1x2x3_cov_w2,0.1)\n",
        "  g6[i,0] = discriminant_func(data_w2[i,0:3],x1x2x3_mean_w3,3,x1x2x3_cov_w3,0.1)\n",
        "  if(g5[i,0] < g4[i,0]) or (g5[i,0] < g6[i,0]):\n",
        "    wrong_pred = wrong_pred + 1\n",
        "\n",
        "#for class3\n",
        "g7 = np.zeros((data_w3_rows,1))\n",
        "g8 = np.zeros((data_w3_rows,1))\n",
        "g9 = np.zeros((data_w3_rows,1))\n",
        "for i in range(0,data_w3_rows):\n",
        "  g7[i,0] = discriminant_func(data_w3[i,0:3],x1x2x3_mean_w1,3,x1x2x3_cov_w1,0.8)\n",
        "  g8[i,0] = discriminant_func(data_w3[i,0:3],x1x2x3_mean_w2,3,x1x2x3_cov_w2,0.1)\n",
        "  g9[i,0] = discriminant_func(data_w3[i,0:3],x1x2x3_mean_w3,3,x1x2x3_cov_w3,0.1)\n",
        "  if(g9[i,0] < g8[i,0]) or (g9[i,0] < g7[i,0]):\n",
        "    wrong_pred = wrong_pred + 1\n",
        "\n",
        "tot_class_error = wrong_pred/(data_w1_rows + data_w2_rows + data_w3_rows)\n",
        "print(f\"Classification Error using x1,x2,x3 is {tot_class_error}\")"
      ],
      "metadata": {
        "colab": {
          "base_uri": "https://localhost:8080/"
        },
        "id": "OxBalCpfC8Kj",
        "outputId": "724c1e6d-857b-4095-de76-5e1e3c76f6c0"
      },
      "execution_count": 38,
      "outputs": [
        {
          "output_type": "stream",
          "name": "stdout",
          "text": [
            "Classification Error using x1,x2,x3 is 0.55\n"
          ]
        }
      ]
    },
    {
      "cell_type": "markdown",
      "source": [
        "##**Άσκηση 4**"
      ],
      "metadata": {
        "id": "H67Hh6MFAqOc"
      }
    },
    {
      "cell_type": "code",
      "source": [
        "import numpy as np\n",
        "import matplotlib.pyplot as plt\n",
        "\n",
        "#create x values\n",
        "x = np.linspace(0,1,1000)\n",
        "\n",
        "# Calculate y values using the function y = x^2 * (1-x)\n",
        "y = x**2 * (1 - x)\n",
        "new_line = 0.33*x - 9/250\n",
        "\n",
        "x_max = np.argmax(y)\n",
        "max = np.max(y)\n",
        "\n",
        "# Create the plot\n",
        "fig, ax = plt.subplots()\n",
        "ax.plot(x, y, 'orange')\n",
        "ax.plot(x, new_line, 'green')\n",
        "plt.grid(True)\n",
        "plt.show()\n",
        "\n",
        "print(f\"F function has maximum value: {max} at x: {x_max/1000}\")\n",
        "print(f\"The error probability for P1 = 0.7 is {new_line[700]}\")"
      ],
      "metadata": {
        "colab": {
          "base_uri": "https://localhost:8080/",
          "height": 466
        },
        "id": "03IVHuh3Aurl",
        "outputId": "1a099ae2-5a7c-435d-baa0-cc3dbc56a920"
      },
      "execution_count": 39,
      "outputs": [
        {
          "output_type": "display_data",
          "data": {
            "text/plain": [
              "<Figure size 640x480 with 1 Axes>"
            ],
            "image/png": "[encoded data removed]"
          },
          "metadata": {}
        },
        {
          "output_type": "stream",
          "name": "stdout",
          "text": [
            "F function has maximum value: 0.14814814814814817 at x: 0.666\n",
            "The error probability for P1 = 0.7 is 0.19523123123123123\n"
          ]
        }
      ]
    },
    {
      "cell_type": "markdown",
      "source": [
        "##**Άσκηση 5**"
      ],
      "metadata": {
        "id": "_-i0c1tO-ObZ"
      }
    },
    {
      "cell_type": "code",
      "source": [
        "import numpy as np\n",
        "import matplotlib.pyplot as plt\n",
        "\n",
        "#define theta distribution function as given\n",
        "def theta_distr(theta1):\n",
        "  return 30*theta1*(1-theta1)**4\n",
        "\n",
        "#define p(theta|D^N) numerator\n",
        "def numerator(theta1,k):\n",
        "  return (theta1**k)*((1-theta1)**(N-k))*theta_distr(theta1)\n",
        "\n",
        "#define p(theta|D^N) denominator\n",
        "def denominator(theta1,k):\n",
        "  return np.trapz(numerator(theta1,k),dx = 1/1000)\n",
        "\n",
        "#define flip results given (1-> heads 0-> tails)\n",
        "flips = np.array([1,0,1,1,1,0,1,1,0,1])\n",
        "\n",
        "#create an array to store all samples for D^1,D^5,D^10\n",
        "p_th = np.zeros((3, 1000))\n",
        "\n",
        "#calculate for N = 1,5,10 p(theta|D^N)\n",
        "theta = np.linspace(0,1,1000)\n",
        "temp1 = 0 #temporary variable to help indicate the right array line\n",
        "for N in (1,5,10):\n",
        "  k = flips[0:N].sum()\n",
        "  p_th[temp1, :] = numerator(theta, k) / denominator(theta, k)\n",
        "  temp1 = temp1 + 1\n",
        "\n",
        "#plot the result\n",
        "fig, ax = plt.subplots()\n",
        "ax.plot(theta, p_th[0], 'orange', label=\"P(theta|D1)\")\n",
        "ax.plot(theta, p_th[1], 'green', label=\"P(theta|D5)\")\n",
        "ax.plot(theta, p_th[2], 'purple', label=\"P(theta|D10)\")\n",
        "ax.legend()\n",
        "plt.show()\n",
        "\n",
        "#check if the integrals are equal to 1\n",
        "for t in (0,1,2):\n",
        "  print(f\"Integral for p_th[{t}] = {round(np.trapz(p_th[t,:],dx = 1/1000),6)}\")\n",
        "\n",
        "#find where the maximum value for P(theta|D^10) appears\n",
        "print(f\"The maximum value is {np.max(p_th[2,:])} for x = {np.argmax(p_th[2,:])/1000}\")"
      ],
      "metadata": {
        "id": "DdMjyJdtyx6e",
        "outputId": "8f32d259-de91-4eeb-b7db-74fb8250a10e",
        "colab": {
          "base_uri": "https://localhost:8080/",
          "height": 501
        }
      },
      "execution_count": 40,
      "outputs": [
        {
          "output_type": "display_data",
          "data": {
            "text/plain": [
              "<Figure size 640x480 with 1 Axes>"
            ],
            "image/png": "[encoded data removed]"
          },
          "metadata": {}
        },
        {
          "output_type": "stream",
          "name": "stdout",
          "text": [
            "Integral for p_th[0] = 1.0\n",
            "Integral for p_th[1] = 1.0\n",
            "Integral for p_th[2] = 1.0\n",
            "The maximum value is 3.251919687635525 for x = 0.533\n"
          ]
        }
      ]
    }
  ]
}