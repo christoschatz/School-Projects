{
  "nbformat": 4,
  "nbformat_minor": 0,
  "metadata": {
    "colab": {
      "provenance": [],
      "collapsed_sections": [
        "tw-Av39VWjwE"
      ]
    },
    "kernelspec": {
      "name": "python3",
      "display_name": "Python 3"
    },
    "language_info": {
      "name": "python"
    }
  },
  "cells": [
    {
      "cell_type": "markdown",
      "source": [
        "##**Data Import**"
      ],
      "metadata": {
        "id": "tw-Av39VWjwE"
      }
    },
    {
      "cell_type": "code",
      "execution_count": 296,
      "metadata": {
        "id": "yViK4jtH1CKq",
        "colab": {
          "base_uri": "https://localhost:8080/"
        },
        "outputId": "a6610a85-223e-455f-9c8d-2285b831b117"
      },
      "outputs": [
        {
          "output_type": "stream",
          "name": "stdout",
          "text": [
            "Archive:  /content/Mask_DB.zip\n"
          ]
        }
      ],
      "source": [
        "!unzip -u \"/content/Mask_DB.zip\" -d \"/content/unzipped_mask_db\"\n",
        "\n",
        "with_mask = \"/content/unzipped_mask_db/with_mask\"\n",
        "without_mask = \"/content/unzipped_mask_db/without_mask\"\n",
        "wrong_mask = \"/content/unzipped_mask_db/mask_incorrect_use\""
      ]
    },
    {
      "cell_type": "markdown",
      "source": [
        "##**Μέρος 1α)**"
      ],
      "metadata": {
        "id": "u8i_ASJIWvu-"
      }
    },
    {
      "cell_type": "code",
      "source": [
        "import numpy as np\n",
        "import matplotlib.pyplot as plt\n",
        "import os\n",
        "import seaborn as sns\n",
        "import torch\n",
        "import torch.nn as nn\n",
        "from torch.autograd import Variable\n",
        "import torchvision.transforms as transforms\n",
        "from torchvision.transforms import ToTensor\n",
        "from torch.utils.data import Dataset, DataLoader\n",
        "from torchvision import transforms\n",
        "from sklearn.model_selection import train_test_split\n",
        "from PIL import Image\n",
        "import random\n",
        "\n",
        "#custom dataset class\n",
        "class CustomDataset(Dataset):\n",
        "    def __init__(self, images, labels, transform=None):\n",
        "        self.images = images\n",
        "        self.labels = labels\n",
        "        self.transform = transform\n",
        "\n",
        "    def __len__(self):\n",
        "        return len(self.images)\n",
        "\n",
        "    def __getitem__(self, idx):\n",
        "        image = Image.fromarray(self.images[idx])\n",
        "        label = torch.tensor(self.labels[idx], dtype=torch.long)\n",
        "\n",
        "        if self.transform:\n",
        "            image = self.transform(image)\n",
        "\n",
        "        return image, label\n",
        "\n",
        "#function to load and preprocess images\n",
        "def load_images(folder_path, label):\n",
        "    images = []\n",
        "    labels = []\n",
        "    for filename in os.listdir(folder_path):\n",
        "        img_path = os.path.join(folder_path, filename)\n",
        "        img = Image.open(img_path)\n",
        "        img_array = np.array(img)\n",
        "        images.append(img_array)\n",
        "        labels.append(label)\n",
        "    return images, labels\n",
        "\n",
        "#load images and labels for 'with_mask' class\n",
        "with_mask_images, with_mask_labels = load_images(with_mask, label=1)\n",
        "\n",
        "#load images and labels for 'without_mask' class\n",
        "without_mask_images, without_mask_labels = load_images(without_mask, label=0)\n",
        "\n",
        "#combine the data from both classes\n",
        "all_images = with_mask_images + without_mask_images\n",
        "all_labels = with_mask_labels + without_mask_labels\n",
        "\n",
        "#convert the data to NumPy arrays\n",
        "X = np.array(all_images)\n",
        "y = np.array(all_labels)\n",
        "\n",
        "#split the data into training and testing set\n",
        "X_train, X_temp, y_train, y_temp = train_test_split(X, y, test_size=0.4, random_state=42)\n",
        "X_val, X_test, y_val, y_test = train_test_split(X_temp, y_temp, test_size=0.5, random_state=42)\n",
        "\n",
        "#define data transformations\n",
        "transform = transforms.Compose([\n",
        "    transforms.ToTensor(),\n",
        "])\n",
        "\n",
        "#create datasets for train validation and test set\n",
        "train_dataset = CustomDataset(X_train, y_train, transform=transform)\n",
        "val_dataset = CustomDataset(X_val, y_val, transform=transform)\n",
        "test_dataset = CustomDataset(X_test, y_test, transform=transform)\n",
        "\n",
        "#create the dataloaders for the previous datasets\n",
        "train_loader = DataLoader(train_dataset, batch_size=100, shuffle=True)\n",
        "val_loader = DataLoader(val_dataset, batch_size=1, shuffle=True)\n",
        "test_loader = DataLoader(test_dataset, batch_size=32, shuffle=True)"
      ],
      "metadata": {
        "id": "ruWkj5IWWwgN"
      },
      "execution_count": 297,
      "outputs": []
    },
    {
      "cell_type": "code",
      "source": [
        "class CNN(nn.Module):\n",
        "    def __init__(self):\n",
        "        super(CNN, self).__init__()\n",
        "        self.layer1 = nn.Sequential(\n",
        "            nn.Conv2d(3, 16, kernel_size=5, padding=2),\n",
        "            nn.BatchNorm2d(16),\n",
        "            nn.ReLU(),\n",
        "            nn.MaxPool2d(2))\n",
        "        self.layer2 = nn.Sequential(\n",
        "            nn.Conv2d(16, 32, kernel_size=5, padding=2),\n",
        "            nn.BatchNorm2d(32),\n",
        "            nn.ReLU(),\n",
        "            nn.MaxPool2d(2))\n",
        "        self.fc = nn.Linear(8*8*32, 2)\n",
        "        self.flatten = nn.Flatten()\n",
        "\n",
        "    def forward(self, x):\n",
        "        out = self.layer1(x)\n",
        "        out = self.layer2(out)\n",
        "        out = self.flatten(out)\n",
        "        out = self.fc(out)\n",
        "        return out\n",
        "\n",
        "cnn = CNN()"
      ],
      "metadata": {
        "id": "S9uGUhJyUu5A"
      },
      "execution_count": 298,
      "outputs": []
    },
    {
      "cell_type": "code",
      "source": [
        "print(cnn)\n",
        "params = list(cnn.parameters())\n",
        "print(\"Number of learnable parameters' sets: \" , len(params))\n",
        "for i in params:\n",
        "  print(i.size())"
      ],
      "metadata": {
        "colab": {
          "base_uri": "https://localhost:8080/"
        },
        "id": "4XLAP-H0VKmn",
        "outputId": "59cd4d13-c497-4be1-f7a6-1f77b6e1ad57"
      },
      "execution_count": 299,
      "outputs": [
        {
          "output_type": "stream",
          "name": "stdout",
          "text": [
            "CNN(\n",
            "  (layer1): Sequential(\n",
            "    (0): Conv2d(3, 16, kernel_size=(5, 5), stride=(1, 1), padding=(2, 2))\n",
            "    (1): BatchNorm2d(16, eps=1e-05, momentum=0.1, affine=True, track_running_stats=True)\n",
            "    (2): ReLU()\n",
            "    (3): MaxPool2d(kernel_size=2, stride=2, padding=0, dilation=1, ceil_mode=False)\n",
            "  )\n",
            "  (layer2): Sequential(\n",
            "    (0): Conv2d(16, 32, kernel_size=(5, 5), stride=(1, 1), padding=(2, 2))\n",
            "    (1): BatchNorm2d(32, eps=1e-05, momentum=0.1, affine=True, track_running_stats=True)\n",
            "    (2): ReLU()\n",
            "    (3): MaxPool2d(kernel_size=2, stride=2, padding=0, dilation=1, ceil_mode=False)\n",
            "  )\n",
            "  (fc): Linear(in_features=2048, out_features=2, bias=True)\n",
            "  (flatten): Flatten(start_dim=1, end_dim=-1)\n",
            ")\n",
            "Number of learnable parameters' sets:  10\n",
            "torch.Size([16, 3, 5, 5])\n",
            "torch.Size([16])\n",
            "torch.Size([16])\n",
            "torch.Size([16])\n",
            "torch.Size([32, 16, 5, 5])\n",
            "torch.Size([32])\n",
            "torch.Size([32])\n",
            "torch.Size([32])\n",
            "torch.Size([2, 2048])\n",
            "torch.Size([2])\n"
          ]
        }
      ]
    },
    {
      "cell_type": "markdown",
      "source": [
        "##**Μέρος 1β)**"
      ],
      "metadata": {
        "id": "DbdsEIYjTSyd"
      }
    },
    {
      "cell_type": "code",
      "source": [
        "#hyper-parameters\n",
        "epochs = 20\n",
        "learning_rate = 0.001\n",
        "criterion = nn.CrossEntropyLoss() #loss function\n",
        "optimizer = torch.optim.Adam(cnn.parameters(), lr=learning_rate)\n",
        "\n",
        "def train_loop(dataloader, model, loss_fn, optimizer):\n",
        "    size = len(dataloader.dataset)\n",
        "    model.train()\n",
        "    for batch, (X, y) in enumerate(dataloader):\n",
        "        #compute prediction and loss\n",
        "        pred = model(X)\n",
        "        loss = loss_fn(pred, y)\n",
        "\n",
        "        #backpropagation\n",
        "        loss.backward()\n",
        "        optimizer.step()\n",
        "        optimizer.zero_grad()\n",
        "\n",
        "        print(f\"loss: {loss:>7f}\")\n",
        "    train_losses.append(loss.item())\n",
        "\n",
        "def test_loop(dataloader, model, loss_fn):\n",
        "    model.eval()\n",
        "    size = len(dataloader.dataset)\n",
        "    num_batches = len(dataloader)\n",
        "    test_loss, correct = 0, 0\n",
        "\n",
        "    with torch.no_grad():\n",
        "        for X, y in dataloader:\n",
        "            pred = model(X)\n",
        "            test_loss += loss_fn(pred, y).item()\n",
        "            correct += (pred.argmax(1) == y).type(torch.float).sum().item()\n",
        "\n",
        "    test_loss /= num_batches\n",
        "    correct /= size\n",
        "    correct_list.append(correct)\n",
        "    val_losses.append(test_loss)\n",
        "    print(f\"Accuracy: {(100*correct):>0.1f}%, Avg loss: {test_loss:>8f} \\n\")"
      ],
      "metadata": {
        "id": "wZDB-q9RVpv8"
      },
      "execution_count": 300,
      "outputs": []
    },
    {
      "cell_type": "code",
      "source": [
        "correct_list = []\n",
        "train_losses = []\n",
        "val_losses = []\n",
        "for t in range(epochs):\n",
        "    print(f\"Epoch {t+1}\\n-------------------------------\")\n",
        "    train_loop(train_loader, cnn, criterion, optimizer)\n",
        "    test_loop(val_loader, cnn, criterion)\n",
        "print(\"Done!\")\n",
        "\n",
        "plt.plot(range(1,epochs+1),correct_list)\n",
        "plt.xlabel(\"Epochs\")\n",
        "plt.ylabel(\"Accuracy on validation set\")\n",
        "plt.show()"
      ],
      "metadata": {
        "colab": {
          "base_uri": "https://localhost:8080/",
          "height": 1000
        },
        "id": "ei8MarEOyCeo",
        "outputId": "20831623-9c9f-4cab-a562-977c452564c7"
      },
      "execution_count": 301,
      "outputs": [
        {
          "output_type": "stream",
          "name": "stdout",
          "text": [
            "Epoch 1\n",
            "-------------------------------\n",
            "loss: 0.721135\n",
            "loss: 0.551465\n",
            "loss: 0.278745\n",
            "loss: 0.276830\n",
            "loss: 0.146311\n",
            "loss: 0.133994\n",
            "loss: 0.069901\n",
            "loss: 0.101274\n",
            "loss: 0.259641\n",
            "loss: 0.106632\n",
            "loss: 0.119918\n",
            "loss: 0.083042\n",
            "loss: 0.045707\n",
            "Accuracy: 78.0%, Avg loss: 0.456267 \n",
            "\n",
            "Epoch 2\n",
            "-------------------------------\n",
            "loss: 0.107364\n",
            "loss: 0.090939\n",
            "loss: 0.057463\n",
            "loss: 0.130505\n",
            "loss: 0.096558\n",
            "loss: 0.133935\n",
            "loss: 0.034144\n",
            "loss: 0.042686\n",
            "loss: 0.100420\n",
            "loss: 0.117300\n",
            "loss: 0.102333\n",
            "loss: 0.120719\n",
            "loss: 0.156475\n",
            "Accuracy: 78.5%, Avg loss: 0.378985 \n",
            "\n",
            "Epoch 3\n",
            "-------------------------------\n",
            "loss: 0.029917\n",
            "loss: 0.073700\n",
            "loss: 0.063709\n",
            "loss: 0.139888\n",
            "loss: 0.095940\n",
            "loss: 0.114961\n",
            "loss: 0.047902\n",
            "loss: 0.041402\n",
            "loss: 0.027569\n",
            "loss: 0.084912\n",
            "loss: 0.059089\n",
            "loss: 0.060567\n",
            "loss: 0.081864\n",
            "Accuracy: 91.9%, Avg loss: 0.210837 \n",
            "\n",
            "Epoch 4\n",
            "-------------------------------\n",
            "loss: 0.087888\n",
            "loss: 0.072281\n",
            "loss: 0.028863\n",
            "loss: 0.049323\n",
            "loss: 0.125533\n",
            "loss: 0.037693\n",
            "loss: 0.034030\n",
            "loss: 0.037662\n",
            "loss: 0.050383\n",
            "loss: 0.049861\n",
            "loss: 0.036385\n",
            "loss: 0.026923\n",
            "loss: 0.024041\n",
            "Accuracy: 96.9%, Avg loss: 0.085282 \n",
            "\n",
            "Epoch 5\n",
            "-------------------------------\n",
            "loss: 0.033206\n",
            "loss: 0.047439\n",
            "loss: 0.071169\n",
            "loss: 0.071532\n",
            "loss: 0.013408\n",
            "loss: 0.007981\n",
            "loss: 0.061048\n",
            "loss: 0.070926\n",
            "loss: 0.020505\n",
            "loss: 0.038233\n",
            "loss: 0.018497\n",
            "loss: 0.041325\n",
            "loss: 0.025162\n",
            "Accuracy: 97.4%, Avg loss: 0.082012 \n",
            "\n",
            "Epoch 6\n",
            "-------------------------------\n",
            "loss: 0.043065\n",
            "loss: 0.043326\n",
            "loss: 0.047802\n",
            "loss: 0.036564\n",
            "loss: 0.029083\n",
            "loss: 0.013545\n",
            "loss: 0.034699\n",
            "loss: 0.030509\n",
            "loss: 0.024430\n",
            "loss: 0.022175\n",
            "loss: 0.063560\n",
            "loss: 0.017798\n",
            "loss: 0.023568\n",
            "Accuracy: 98.3%, Avg loss: 0.057411 \n",
            "\n",
            "Epoch 7\n",
            "-------------------------------\n",
            "loss: 0.022098\n",
            "loss: 0.023961\n",
            "loss: 0.027264\n",
            "loss: 0.032953\n",
            "loss: 0.036702\n",
            "loss: 0.048437\n",
            "loss: 0.014064\n",
            "loss: 0.011177\n",
            "loss: 0.016135\n",
            "loss: 0.013069\n",
            "loss: 0.037473\n",
            "loss: 0.035336\n",
            "loss: 0.026700\n",
            "Accuracy: 97.4%, Avg loss: 0.066038 \n",
            "\n",
            "Epoch 8\n",
            "-------------------------------\n",
            "loss: 0.010284\n",
            "loss: 0.018579\n",
            "loss: 0.018952\n",
            "loss: 0.012276\n",
            "loss: 0.028807\n",
            "loss: 0.008015\n",
            "loss: 0.023819\n",
            "loss: 0.015856\n",
            "loss: 0.018560\n",
            "loss: 0.043267\n",
            "loss: 0.014689\n",
            "loss: 0.012204\n",
            "loss: 0.002154\n",
            "Accuracy: 96.2%, Avg loss: 0.099185 \n",
            "\n",
            "Epoch 9\n",
            "-------------------------------\n",
            "loss: 0.027717\n",
            "loss: 0.019245\n",
            "loss: 0.022607\n",
            "loss: 0.047437\n",
            "loss: 0.016198\n",
            "loss: 0.012213\n",
            "loss: 0.016725\n",
            "loss: 0.018698\n",
            "loss: 0.047529\n",
            "loss: 0.007064\n",
            "loss: 0.011377\n",
            "loss: 0.009637\n",
            "loss: 0.014158\n",
            "Accuracy: 97.8%, Avg loss: 0.046428 \n",
            "\n",
            "Epoch 10\n",
            "-------------------------------\n",
            "loss: 0.006226\n",
            "loss: 0.015293\n",
            "loss: 0.018714\n",
            "loss: 0.030439\n",
            "loss: 0.015395\n",
            "loss: 0.028636\n",
            "loss: 0.007498\n",
            "loss: 0.013897\n",
            "loss: 0.005997\n",
            "loss: 0.013959\n",
            "loss: 0.026356\n",
            "loss: 0.004575\n",
            "loss: 0.029108\n",
            "Accuracy: 98.1%, Avg loss: 0.057599 \n",
            "\n",
            "Epoch 11\n",
            "-------------------------------\n",
            "loss: 0.016849\n",
            "loss: 0.011665\n",
            "loss: 0.010135\n",
            "loss: 0.006971\n",
            "loss: 0.006238\n",
            "loss: 0.023002\n",
            "loss: 0.014348\n",
            "loss: 0.009498\n",
            "loss: 0.015068\n",
            "loss: 0.018092\n",
            "loss: 0.008451\n",
            "loss: 0.006262\n",
            "loss: 0.011446\n",
            "Accuracy: 97.8%, Avg loss: 0.047849 \n",
            "\n",
            "Epoch 12\n",
            "-------------------------------\n",
            "loss: 0.007754\n",
            "loss: 0.012069\n",
            "loss: 0.011754\n",
            "loss: 0.009170\n",
            "loss: 0.016917\n",
            "loss: 0.023666\n",
            "loss: 0.008075\n",
            "loss: 0.006223\n",
            "loss: 0.003998\n",
            "loss: 0.005444\n",
            "loss: 0.010055\n",
            "loss: 0.007058\n",
            "loss: 0.006803\n",
            "Accuracy: 97.6%, Avg loss: 0.045186 \n",
            "\n",
            "Epoch 13\n",
            "-------------------------------\n",
            "loss: 0.005949\n",
            "loss: 0.007250\n",
            "loss: 0.007800\n",
            "loss: 0.013119\n",
            "loss: 0.008634\n",
            "loss: 0.010437\n",
            "loss: 0.013023\n",
            "loss: 0.005006\n",
            "loss: 0.005612\n",
            "loss: 0.004749\n",
            "loss: 0.010900\n",
            "loss: 0.004294\n",
            "loss: 0.020660\n",
            "Accuracy: 98.1%, Avg loss: 0.045539 \n",
            "\n",
            "Epoch 14\n",
            "-------------------------------\n",
            "loss: 0.008023\n",
            "loss: 0.004094\n",
            "loss: 0.005589\n",
            "loss: 0.008709\n",
            "loss: 0.009559\n",
            "loss: 0.002267\n",
            "loss: 0.007882\n",
            "loss: 0.005998\n",
            "loss: 0.003257\n",
            "loss: 0.010240\n",
            "loss: 0.005909\n",
            "loss: 0.003407\n",
            "loss: 0.003661\n",
            "Accuracy: 97.6%, Avg loss: 0.048465 \n",
            "\n",
            "Epoch 15\n",
            "-------------------------------\n",
            "loss: 0.009730\n",
            "loss: 0.006336\n",
            "loss: 0.006245\n",
            "loss: 0.005112\n",
            "loss: 0.004684\n",
            "loss: 0.003180\n",
            "loss: 0.004148\n",
            "loss: 0.005422\n",
            "loss: 0.003699\n",
            "loss: 0.007986\n",
            "loss: 0.003315\n",
            "loss: 0.005839\n",
            "loss: 0.002865\n",
            "Accuracy: 98.1%, Avg loss: 0.042002 \n",
            "\n",
            "Epoch 16\n",
            "-------------------------------\n",
            "loss: 0.002893\n",
            "loss: 0.003559\n",
            "loss: 0.002553\n",
            "loss: 0.005029\n",
            "loss: 0.001314\n",
            "loss: 0.003355\n",
            "loss: 0.002041\n",
            "loss: 0.003537\n",
            "loss: 0.005280\n",
            "loss: 0.004836\n",
            "loss: 0.006107\n",
            "loss: 0.002417\n",
            "loss: 0.009411\n",
            "Accuracy: 98.1%, Avg loss: 0.040280 \n",
            "\n",
            "Epoch 17\n",
            "-------------------------------\n",
            "loss: 0.003678\n",
            "loss: 0.001583\n",
            "loss: 0.004101\n",
            "loss: 0.003339\n",
            "loss: 0.002549\n",
            "loss: 0.001893\n",
            "loss: 0.005249\n",
            "loss: 0.002304\n",
            "loss: 0.002386\n",
            "loss: 0.005221\n",
            "loss: 0.002871\n",
            "loss: 0.004228\n",
            "loss: 0.003972\n",
            "Accuracy: 98.1%, Avg loss: 0.036806 \n",
            "\n",
            "Epoch 18\n",
            "-------------------------------\n",
            "loss: 0.003608\n",
            "loss: 0.001597\n",
            "loss: 0.002788\n",
            "loss: 0.003308\n",
            "loss: 0.004109\n",
            "loss: 0.002090\n",
            "loss: 0.002780\n",
            "loss: 0.003422\n",
            "loss: 0.004504\n",
            "loss: 0.003840\n",
            "loss: 0.002150\n",
            "loss: 0.002086\n",
            "loss: 0.002075\n",
            "Accuracy: 98.1%, Avg loss: 0.036059 \n",
            "\n",
            "Epoch 19\n",
            "-------------------------------\n",
            "loss: 0.002421\n",
            "loss: 0.002209\n",
            "loss: 0.002114\n",
            "loss: 0.003155\n",
            "loss: 0.002552\n",
            "loss: 0.001999\n",
            "loss: 0.001985\n",
            "loss: 0.008748\n",
            "loss: 0.002435\n",
            "loss: 0.001422\n",
            "loss: 0.002859\n",
            "loss: 0.001522\n",
            "loss: 0.000390\n",
            "Accuracy: 98.3%, Avg loss: 0.036392 \n",
            "\n",
            "Epoch 20\n",
            "-------------------------------\n",
            "loss: 0.001783\n",
            "loss: 0.002200\n",
            "loss: 0.006541\n",
            "loss: 0.001966\n",
            "loss: 0.002389\n",
            "loss: 0.002933\n",
            "loss: 0.001239\n",
            "loss: 0.002448\n",
            "loss: 0.001839\n",
            "loss: 0.004009\n",
            "loss: 0.005475\n",
            "loss: 0.001053\n",
            "loss: 0.003357\n",
            "Accuracy: 98.3%, Avg loss: 0.033994 \n",
            "\n",
            "Done!\n"
          ]
        },
        {
          "output_type": "display_data",
          "data": {
            "text/plain": [
              "<Figure size 640x480 with 1 Axes>"
            ],
            "image/png": "[encoded data removed]"
          },
          "metadata": {}
        }
      ]
    },
    {
      "cell_type": "code",
      "source": [
        "plt.plot(range(1, epochs + 1), train_losses, label='Train Loss')\n",
        "plt.plot(range(1, epochs + 1), val_losses, label='Validation Loss')\n",
        "plt.xlabel('Epochs')\n",
        "plt.ylabel('Loss')\n",
        "plt.legend()\n",
        "plt.show()"
      ],
      "metadata": {
        "colab": {
          "base_uri": "https://localhost:8080/",
          "height": 449
        },
        "id": "pYf5WwDsIccQ",
        "outputId": "f0eaba32-473e-468e-a73c-e00cb0304870"
      },
      "execution_count": 302,
      "outputs": [
        {
          "output_type": "display_data",
          "data": {
            "text/plain": [
              "<Figure size 640x480 with 1 Axes>"
            ],
            "image/png": "[encoded data removed]"
          },
          "metadata": {}
        }
      ]
    },
    {
      "cell_type": "markdown",
      "source": [
        "##**Μέρος 1γ)**"
      ],
      "metadata": {
        "id": "k-H8VfSUTXQX"
      }
    },
    {
      "cell_type": "code",
      "source": [
        "print(\"Test set\")\n",
        "test_loop(test_loader, cnn, criterion)"
      ],
      "metadata": {
        "colab": {
          "base_uri": "https://localhost:8080/"
        },
        "id": "XoblJ3t74uQZ",
        "outputId": "cb55e83c-247d-42ba-8621-71eafcb61d58"
      },
      "execution_count": 303,
      "outputs": [
        {
          "output_type": "stream",
          "name": "stdout",
          "text": [
            "Test set\n",
            "Accuracy: 98.6%, Avg loss: 0.063000 \n",
            "\n"
          ]
        }
      ]
    },
    {
      "cell_type": "code",
      "source": [
        "from sklearn.metrics import confusion_matrix\n",
        "import seaborn as sn\n",
        "\n",
        "cnn.eval()\n",
        "all_preds = []\n",
        "all_labels = []\n",
        "\n",
        "with torch.no_grad():\n",
        "    for inputs, labels in test_loader:\n",
        "        outputs = cnn(inputs)\n",
        "        _, preds = torch.max(outputs, 1)\n",
        "        all_preds.extend(preds.cpu().numpy())\n",
        "        all_labels.extend(labels.cpu().numpy())\n",
        "\n",
        "#calculate the confusion matrix\n",
        "cm = confusion_matrix(all_labels, all_preds)\n",
        "classes = ('without_mask', 'with_mask')\n",
        "\n",
        "#plot the confusion matrix\n",
        "plt.figure(figsize=(10, 8))\n",
        "sns.heatmap(cm, annot=True, fmt=\"d\", cmap=\"Blues\", xticklabels=[f\"{i}\" for i in classes],\n",
        "            yticklabels=[f\"{i}\" for i in classes])\n",
        "plt.xlabel(\"Predicted\")\n",
        "plt.ylabel(\"True\")\n",
        "plt.title(\"Confusion Matrix\")\n",
        "plt.show()"
      ],
      "metadata": {
        "colab": {
          "base_uri": "https://localhost:8080/",
          "height": 718
        },
        "id": "U8NbZ8uq1mo3",
        "outputId": "f596bf21-f2c7-48cc-d670-1c450682783b"
      },
      "execution_count": 304,
      "outputs": [
        {
          "output_type": "display_data",
          "data": {
            "text/plain": [
              "<Figure size 1000x800 with 2 Axes>"
            ],
            "image/png": "[encoded data removed]"
          },
          "metadata": {}
        }
      ]
    },
    {
      "cell_type": "code",
      "source": [
        "from sklearn.metrics import precision_recall_curve, auc\n",
        "import torch.nn.functional as F\n",
        "\n",
        "#set the model to evaluation mode\n",
        "cnn.eval()\n",
        "\n",
        "#create lists to store labels and predictions\n",
        "all_predictions = []\n",
        "all_labels = []\n",
        "\n",
        "with torch.no_grad():\n",
        "    for inputs, labels in test_loader:\n",
        "        outputs = cnn(inputs)\n",
        "        #transform the output into probabilities\n",
        "        probs = F.softmax(outputs, dim=1)\n",
        "        all_predictions.extend(probs.numpy())\n",
        "        all_labels.extend(labels.numpy())\n",
        "\n",
        "#convert predictions and labels to numpy arrays\n",
        "all_predictions = np.array(all_predictions)\n",
        "all_labels = np.array(all_labels)\n",
        "\n",
        "#plot precision - recall curves for each class\n",
        "precision = []\n",
        "recall = []\n",
        "auc_scores = []\n",
        "\n",
        "#calculate precision and recall for each class\n",
        "for i in range(2):\n",
        "    prec, rec, _ = precision_recall_curve((all_labels == i).astype(int), all_predictions[:, i])\n",
        "    precision.append(prec)\n",
        "    recall.append(rec)\n",
        "    auc_scores.append(auc(recall[i], precision[i]))\n",
        "\n",
        "#plot the precision - recall curves\n",
        "plt.figure(figsize=(8, 6))\n",
        "\n",
        "for i in range(2):\n",
        "    plt.plot(recall[i], precision[i], label=f'Class {i+1} (AUC = {auc_scores[i]:.2f})')\n",
        "\n",
        "plt.xlabel('Recall')\n",
        "plt.ylabel('Precision')\n",
        "plt.title('Precision-Recall curve for each class')\n",
        "plt.legend()\n",
        "plt.show()"
      ],
      "metadata": {
        "colab": {
          "base_uri": "https://localhost:8080/",
          "height": 564
        },
        "id": "hOfYuxlNNkQC",
        "outputId": "8dbc6d14-0080-4eed-abef-0f42bd691166"
      },
      "execution_count": 305,
      "outputs": [
        {
          "output_type": "display_data",
          "data": {
            "text/plain": [
              "<Figure size 800x600 with 1 Axes>"
            ],
            "image/png": "[encoded data removed]"
          },
          "metadata": {}
        }
      ]
    },
    {
      "cell_type": "markdown",
      "source": [
        "##**Μέρος 1δ)**"
      ],
      "metadata": {
        "id": "tpGm-0y07ubt"
      }
    },
    {
      "cell_type": "code",
      "source": [
        "#create the dataset and the dataloader with wrong mask usage images\n",
        "\n",
        "wrong_mask_images, wrong_mask_labels = load_images(wrong_mask, label=1)\n",
        "\n",
        "test2_dataset = CustomDataset(wrong_mask_images, wrong_mask_labels, transform=transform)\n",
        "\n",
        "test2_loader = DataLoader(test2_dataset, batch_size=1, shuffle=False)\n",
        "\n",
        "print(\"Incorrect mask usage recognized as with mask\")\n",
        "test_loop(test2_loader, cnn, criterion)"
      ],
      "metadata": {
        "colab": {
          "base_uri": "https://localhost:8080/"
        },
        "id": "Fx2Hxwunge77",
        "outputId": "dfab45e9-1cb2-4dec-c120-b2a57d94a2e0"
      },
      "execution_count": 306,
      "outputs": [
        {
          "output_type": "stream",
          "name": "stdout",
          "text": [
            "Incorrect mask usage recognized as with mask\n",
            "Accuracy: 85.7%, Avg loss: 0.746954 \n",
            "\n"
          ]
        }
      ]
    },
    {
      "cell_type": "markdown",
      "source": [
        "1ος Τρόπος"
      ],
      "metadata": {
        "id": "jJ9i06oiLHVv"
      }
    },
    {
      "cell_type": "code",
      "source": [
        "#perform data augmentation on the wrong mask usage images\n",
        "\n",
        "augmentation_transform = transforms.Compose([\n",
        "    transforms.RandomRotation(degrees=(-90, 90)),\n",
        "    #transforms.RandomHorizontalFlip(),\n",
        "    transforms.RandomResizedCrop(size=(32, 32), scale=(0.8, 1.0), ratio=(0.85, 1.05)),\n",
        "    transforms.ToTensor(),\n",
        "])\n",
        "\n",
        "test3_dataset = CustomDataset(wrong_mask_images, wrong_mask_labels, transform=augmentation_transform)\n",
        "test3_loader = DataLoader(test3_dataset, batch_size=1, shuffle=False)\n",
        "\n",
        "print(\"With data augmentation\")\n",
        "test_loop(test3_loader, cnn, criterion)"
      ],
      "metadata": {
        "colab": {
          "base_uri": "https://localhost:8080/"
        },
        "id": "JusVa4JZWB_c",
        "outputId": "10fba926-3e44-429c-8505-174296e061ff"
      },
      "execution_count": 312,
      "outputs": [
        {
          "output_type": "stream",
          "name": "stdout",
          "text": [
            "With data augmentation\n",
            "Accuracy: 48.2%, Avg loss: 0.726437 \n",
            "\n"
          ]
        }
      ]
    },
    {
      "cell_type": "code",
      "source": [
        "import torchvision.transforms.functional as F2\n",
        "random_image = random.randint(0, len(test3_dataset) - 1)\n",
        "\n",
        "#display the original image\n",
        "original_image = wrong_mask_images[random_image]\n",
        "\n",
        "plt.figure(figsize=(8, 4))\n",
        "plt.subplot(1, 2, 1)\n",
        "plt.title(f\"Original Image\")\n",
        "plt.imshow(F2.to_pil_image(original_image))\n",
        "plt.axis(\"off\")\n",
        "\n",
        "#display the augmented image\n",
        "augmented_sample = test3_dataset[random_image]\n",
        "augmented_image, _ = augmented_sample\n",
        "\n",
        "plt.subplot(1, 2, 2)\n",
        "plt.title(f\"Augmented Image\")\n",
        "plt.imshow(F2.to_pil_image(augmented_image))\n",
        "plt.axis(\"off\")\n",
        "\n",
        "plt.show()"
      ],
      "metadata": {
        "colab": {
          "base_uri": "https://localhost:8080/",
          "height": 341
        },
        "id": "WTLv1raNTsNV",
        "outputId": "fc894239-cbba-44d6-8009-a79a33fe45d0"
      },
      "execution_count": 338,
      "outputs": [
        {
          "output_type": "display_data",
          "data": {
            "text/plain": [
              "<Figure size 800x400 with 2 Axes>"
            ],
            "image/png": "[encoded data removed]"
          },
          "metadata": {}
        }
      ]
    },
    {
      "cell_type": "markdown",
      "source": [
        "2ος Τρόπος\n"
      ],
      "metadata": {
        "id": "T_yheGfULKsz"
      }
    },
    {
      "cell_type": "code",
      "source": [
        "def test_loop(dataloader, model, loss_fn):\n",
        "    model.eval()\n",
        "    size = len(dataloader.dataset)\n",
        "    num_batches = len(dataloader)\n",
        "    test_loss, correct = 0, 0\n",
        "\n",
        "    with torch.no_grad():\n",
        "        for X, y in dataloader:\n",
        "            pred_logits = model(X)\n",
        "            pred_probabilities = torch.softmax(pred_logits, dim=1)\n",
        "            #apply threshold in order to assign a sample in a class\n",
        "            pred_binary = (pred_probabilities[:, 1] > 0.999).long()\n",
        "\n",
        "            test_loss += loss_fn(pred_logits, y).item()\n",
        "            correct += (pred_binary == y).type(torch.float).sum().item()\n",
        "\n",
        "    test_loss /= num_batches\n",
        "    correct /= size\n",
        "    correct_list.append(correct)\n",
        "    print(f\"Accuracy: {(100*correct):>0.1f}%, Avg loss: {test_loss:>8f} \\n\")"
      ],
      "metadata": {
        "id": "oTaCp05tLMFS"
      },
      "execution_count": 325,
      "outputs": []
    },
    {
      "cell_type": "code",
      "source": [
        "print(\"Test set accuracy when using the new threshold\")\n",
        "test_loop(test_loader, cnn, criterion)"
      ],
      "metadata": {
        "colab": {
          "base_uri": "https://localhost:8080/"
        },
        "id": "oizt2sHjLaks",
        "outputId": "0b93b6b3-dd4b-48b8-9b5e-5e18ecb7ae1a"
      },
      "execution_count": 326,
      "outputs": [
        {
          "output_type": "stream",
          "name": "stdout",
          "text": [
            "Test set accuracy when using the new threshold\n",
            "Accuracy: 90.4%, Avg loss: 0.066242 \n",
            "\n"
          ]
        }
      ]
    },
    {
      "cell_type": "code",
      "source": [
        "print(\"Incorrect mask usage recognized as with mask\")\n",
        "test_loop(test2_loader, cnn, criterion)"
      ],
      "metadata": {
        "colab": {
          "base_uri": "https://localhost:8080/"
        },
        "id": "Lir9NoRMLfwQ",
        "outputId": "85998d0b-043f-416f-87ba-4da946065031"
      },
      "execution_count": 327,
      "outputs": [
        {
          "output_type": "stream",
          "name": "stdout",
          "text": [
            "Incorrect mask usage recognized as with mask\n",
            "Accuracy: 55.4%, Avg loss: 0.746954 \n",
            "\n"
          ]
        }
      ]
    }
  ]
}